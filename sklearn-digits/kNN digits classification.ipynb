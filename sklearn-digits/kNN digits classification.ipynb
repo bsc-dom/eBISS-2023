{
 "cells": [
  {
   "cell_type": "code",
   "execution_count": null,
   "id": "e44d56f7",
   "metadata": {},
   "outputs": [],
   "source": [
    "import numpy as np\n",
    "import sklearn.datasets\n",
    "\n",
    "data, target = sklearn.datasets.load_digits(return_X_y=True)"
   ]
  },
  {
   "cell_type": "code",
   "execution_count": null,
   "id": "fbd5fa25",
   "metadata": {},
   "outputs": [],
   "source": [
    "from sklearn.neighbors import KNeighborsClassifier\n",
    "\n",
    "knn = KNeighborsClassifier()\n",
    "knn.fit(data, target)"
   ]
  },
  {
   "cell_type": "code",
   "execution_count": null,
   "id": "59489207",
   "metadata": {},
   "outputs": [],
   "source": [
    "np.max(data)"
   ]
  },
  {
   "cell_type": "code",
   "execution_count": null,
   "id": "52b63823",
   "metadata": {},
   "outputs": [],
   "source": [
    "data.shape"
   ]
  },
  {
   "cell_type": "code",
   "execution_count": null,
   "id": "a442c617",
   "metadata": {},
   "outputs": [],
   "source": [
    "from IPython.display import Image, display\n",
    "\n",
    "for i in range(13):\n",
    "    display(Image(filename=\"../custom-data/digit%02d.png\" % i))"
   ]
  },
  {
   "cell_type": "code",
   "execution_count": null,
   "id": "ee8d5111",
   "metadata": {},
   "outputs": [],
   "source": [
    "import numpy as np\n",
    "from PIL import Image\n",
    "from PIL.ImageOps import invert\n",
    "\n",
    "images = list()\n",
    "for i in range(13):\n",
    "    image = Image.open(\"../custom-data/digit%02d.png\" % i).convert(\"L\")\n",
    "    image = invert(image).resize((8, 8))\n",
    "    \n",
    "    display(image)\n",
    "    \n",
    "    # Grayscale typically goes between 0-255, with 8 bits.\n",
    "    # But the dataset has 16 levels only, so we match the images\n",
    "    # to the 0-16 range of the dataset.\n",
    "    images.append(np.array(image).flatten() // 16)  \n",
    "    \n",
    "\n",
    "knn.predict(images)"
   ]
  },
  {
   "cell_type": "code",
   "execution_count": null,
   "id": "95b47337",
   "metadata": {},
   "outputs": [],
   "source": []
  }
 ],
 "metadata": {
  "kernelspec": {
   "display_name": "Python 3 (ipykernel)",
   "language": "python",
   "name": "python3"
  },
  "language_info": {
   "codemirror_mode": {
    "name": "ipython",
    "version": 3
   },
   "file_extension": ".py",
   "mimetype": "text/x-python",
   "name": "python",
   "nbconvert_exporter": "python",
   "pygments_lexer": "ipython3",
   "version": "3.10.6"
  }
 },
 "nbformat": 4,
 "nbformat_minor": 5
}
