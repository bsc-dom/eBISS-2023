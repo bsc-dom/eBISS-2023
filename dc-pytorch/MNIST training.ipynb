{
 "cells": [
  {
   "cell_type": "markdown",
   "id": "430b756b",
   "metadata": {},
   "source": [
    "# Demo of MNIST with dataClay & PyTorch"
   ]
  },
  {
   "cell_type": "code",
   "execution_count": null,
   "id": "07cc229f",
   "metadata": {},
   "outputs": [],
   "source": [
    "from model.dc_classes import MNIST"
   ]
  },
  {
   "cell_type": "code",
   "execution_count": null,
   "id": "59f8ed6d",
   "metadata": {},
   "outputs": [],
   "source": [
    "from dataclay import Client\n",
    "\n",
    "client = Client(host=\"127.0.0.1\", username=\"testuser\", password=\"s3cret\", dataset=\"testdata\")\n",
    "client.start()"
   ]
  },
  {
   "cell_type": "code",
   "execution_count": null,
   "id": "9b599ca6",
   "metadata": {},
   "outputs": [],
   "source": [
    "mnist_fast = MNIST()\n",
    "\n",
    "###################################\n",
    "#MNIST.delete_alias(\"FastMNIST\")  # Just for debugging purposes\n",
    "###################################\n",
    "\n",
    "mnist_fast.make_persistent(alias=\"FastMNIST\")\n",
    "mnist_fast.prepare()\n",
    "mnist_fast.run_epochs(5, dry_run=True)"
   ]
  },
  {
   "cell_type": "code",
   "execution_count": null,
   "id": "f1e0c063",
   "metadata": {},
   "outputs": [],
   "source": [
    "mnist = MNIST()\n",
    "\n",
    "########################################\n",
    "MNIST.delete_alias(\"MyTrainedMNIST\")  # Just for debugging purposes\n",
    "########################################\n",
    "\n",
    "mnist.make_persistent(alias=\"MyTrainedMNIST\")\n",
    "mnist.prepare()\n",
    "mnist.run_epochs(2, dry_run=False)"
   ]
  },
  {
   "cell_type": "code",
   "execution_count": null,
   "id": "c2e66124",
   "metadata": {},
   "outputs": [],
   "source": []
  }
 ],
 "metadata": {
  "kernelspec": {
   "display_name": "Python 3 (ipykernel)",
   "language": "python",
   "name": "python3"
  },
  "language_info": {
   "codemirror_mode": {
    "name": "ipython",
    "version": 3
   },
   "file_extension": ".py",
   "mimetype": "text/x-python",
   "name": "python",
   "nbconvert_exporter": "python",
   "pygments_lexer": "ipython3",
   "version": "3.10.6"
  }
 },
 "nbformat": 4,
 "nbformat_minor": 5
}
