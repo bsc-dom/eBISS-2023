{
 "cells": [
  {
   "cell_type": "markdown",
   "id": "6ec67f29",
   "metadata": {},
   "source": [
    "![Hello eBISS!](../custom-data/HelloMessage.png)"
   ]
  },
  {
   "cell_type": "code",
   "execution_count": null,
   "id": "e246bf1b",
   "metadata": {},
   "outputs": [],
   "source": [
    "from IPython.display import Image, display\n",
    "\n",
    "for i in range(13):\n",
    "    display(Image(filename=\"../custom-data/digit%02d.png\" % i))"
   ]
  },
  {
   "cell_type": "code",
   "execution_count": null,
   "id": "e3090303",
   "metadata": {},
   "outputs": [],
   "source": [
    "from model.dc_classes import MNIST\n",
    "\n",
    "from dataclay import Client\n",
    "\n",
    "client = Client(host=\"127.0.0.1\", username=\"testuser\", password=\"s3cret\", dataset=\"testdata\")\n",
    "client.start()"
   ]
  },
  {
   "cell_type": "markdown",
   "id": "c8accdb5",
   "metadata": {},
   "source": [
    "## Using the `dry_run` model (bad!)"
   ]
  },
  {
   "cell_type": "code",
   "execution_count": null,
   "id": "ea1fa457",
   "metadata": {},
   "outputs": [],
   "source": [
    "mnist = MNIST.get_by_alias(\"FastMNIST\")"
   ]
  },
  {
   "cell_type": "code",
   "execution_count": null,
   "id": "1647c6d6",
   "metadata": {},
   "outputs": [],
   "source": [
    "from PIL import Image\n",
    "\n",
    "images = [Image.open(\"../custom-data/digit%02d.png\" % i).convert('1') for i in range(13)]\n",
    "\n",
    "labels, tensors = mnist.inference(images)\n",
    "labels"
   ]
  },
  {
   "cell_type": "markdown",
   "id": "f959e3bc",
   "metadata": {},
   "source": [
    "## Using the full model (better!)"
   ]
  },
  {
   "cell_type": "code",
   "execution_count": null,
   "id": "00b1973c",
   "metadata": {},
   "outputs": [],
   "source": [
    "mnist = MNIST.get_by_alias(\"MyTrainedMNIST\")\n",
    "labels, tensors = mnist.inference(images)\n",
    "labels"
   ]
  },
  {
   "cell_type": "markdown",
   "id": "107dc180",
   "metadata": {},
   "source": [
    "## Refining the full model"
   ]
  },
  {
   "cell_type": "code",
   "execution_count": null,
   "id": "51b351da",
   "metadata": {},
   "outputs": [],
   "source": [
    "mnist.run_epochs(4)"
   ]
  },
  {
   "cell_type": "code",
   "execution_count": null,
   "id": "9af6b89f",
   "metadata": {},
   "outputs": [],
   "source": [
    "labels, tensors = mnist.inference(images)\n",
    "labels"
   ]
  },
  {
   "cell_type": "code",
   "execution_count": null,
   "id": "cb16b28f",
   "metadata": {},
   "outputs": [],
   "source": []
  }
 ],
 "metadata": {
  "kernelspec": {
   "display_name": "Python 3 (ipykernel)",
   "language": "python",
   "name": "python3"
  },
  "language_info": {
   "codemirror_mode": {
    "name": "ipython",
    "version": 3
   },
   "file_extension": ".py",
   "mimetype": "text/x-python",
   "name": "python",
   "nbconvert_exporter": "python",
   "pygments_lexer": "ipython3",
   "version": "3.10.6"
  }
 },
 "nbformat": 4,
 "nbformat_minor": 5
}
