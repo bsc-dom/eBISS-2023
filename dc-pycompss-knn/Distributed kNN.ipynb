{
 "cells": [
  {
   "cell_type": "markdown",
   "id": "752be35c",
   "metadata": {},
   "source": [
    "## General `task` usage\n",
    "\n",
    "A general view of the execution of multiple tasks over a dataset is the following:\n",
    "\n",
    "![tasks](tasks.png)\n",
    "\n",
    "In a _k_-Nearest Neighbors algorithm, this applies as follows:"
   ]
  },
  {
   "cell_type": "markdown",
   "id": "52492746",
   "metadata": {},
   "source": [
    "## Distributed `fit` (training)\n",
    "\n",
    "![fit](knn-fit.png)"
   ]
  },
  {
   "cell_type": "code",
   "execution_count": null,
   "id": "23e25a8a",
   "metadata": {},
   "outputs": [],
   "source": [
    "# Pseudocode for the fit stage (simplified)\n",
    "\n",
    "from pycompss import task\n",
    "from sklearn import NearestNeighbors\n",
    "\n",
    "@task(...)\n",
    "def fit(data):\n",
    "    nn = NearestNeighbors()\n",
    "    nn.fit(data)\n",
    "    ..."
   ]
  },
  {
   "cell_type": "markdown",
   "id": "ddb438cd",
   "metadata": {},
   "source": [
    "## Distributed `kneighbors` (inference)\n",
    "\n",
    "![kneighbors](knn-kneighbors.png)"
   ]
  },
  {
   "cell_type": "code",
   "execution_count": null,
   "id": "2d11e734",
   "metadata": {},
   "outputs": [],
   "source": [
    "# Pseudocode for the kneighbors stage (simplified)\n",
    "\n",
    "@task(...)\n",
    "def kneighbors(nn, X):\n",
    "    dist, ind = nn.kneighbors(X=X)\n",
    "    ..."
   ]
  },
  {
   "cell_type": "markdown",
   "id": "61b4ed2f",
   "metadata": {},
   "source": [
    "## Merge stage over the partial `kneighbors`\n",
    "\n",
    "![merge](knn-merge.png)"
   ]
  },
  {
   "cell_type": "code",
   "execution_count": null,
   "id": "29a0e39e",
   "metadata": {},
   "outputs": [],
   "source": [
    "# Pseudocode for the merge (simplified)\n",
    "\n",
    "@task(...)\n",
    "def merge(dist, ind):\n",
    "    aggr_dist = np.hstack(dist)\n",
    "    aggr_ind = np.hstack(ind)\n",
    "\n",
    "    # Final indexes of the indexes (sic)\n",
    "    final_ii = np.argsort(aggr_dist)[:,:k]\n",
    "\n",
    "    # Final results\n",
    "    return(\n",
    "        np.take_along_axis(aggr_dist, final_ii, 1),\n",
    "        np.take_along_axis(aggr_ind, final_ii, 1)\n",
    "    )"
   ]
  },
  {
   "cell_type": "code",
   "execution_count": null,
   "id": "9cfada94",
   "metadata": {},
   "outputs": [],
   "source": []
  }
 ],
 "metadata": {
  "kernelspec": {
   "display_name": "Python 3 (ipykernel)",
   "language": "python",
   "name": "python3"
  },
  "language_info": {
   "codemirror_mode": {
    "name": "ipython",
    "version": 3
   },
   "file_extension": ".py",
   "mimetype": "text/x-python",
   "name": "python",
   "nbconvert_exporter": "python",
   "pygments_lexer": "ipython3",
   "version": "3.10.6"
  }
 },
 "nbformat": 4,
 "nbformat_minor": 5
}
