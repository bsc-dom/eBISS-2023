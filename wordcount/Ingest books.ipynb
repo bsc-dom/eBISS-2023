{
 "cells": [
  {
   "cell_type": "markdown",
   "id": "d4749333",
   "metadata": {},
   "source": [
    "# WordCount example\n",
    "\n",
    "In this example we will be doing some WordCount operation and verifying dataClay behavior with persistent data and remote datasets.\n",
    "\n",
    "## Ingest several books as dataset"
   ]
  },
  {
   "cell_type": "markdown",
   "id": "2b30f97c",
   "metadata": {},
   "source": [
    "### Prepare dataClay client connection"
   ]
  },
  {
   "cell_type": "code",
   "execution_count": 1,
   "id": "5fe32e90",
   "metadata": {},
   "outputs": [],
   "source": [
    "from model.text import TextFile\n",
    "from dataclay import Client\n",
    "\n",
    "client = Client(host=\"127.0.0.1\", username=\"testuser\", password=\"s3cret\", dataset=\"testdata\")\n",
    "client.start()"
   ]
  },
  {
   "cell_type": "markdown",
   "id": "82801ba5",
   "metadata": {},
   "source": [
    "### Read Romeo and Juliet (persistent)"
   ]
  },
  {
   "cell_type": "code",
   "execution_count": 2,
   "id": "21b618e9",
   "metadata": {},
   "outputs": [],
   "source": [
    "romeonjuliet = TextFile(\"/custom-data/Romeo and Juliet.txt\")\n",
    "romeonjuliet.make_persistent(alias=\"Romeo and Juliet\")\n",
    "romeonjuliet.read_file()"
   ]
  },
  {
   "cell_type": "markdown",
   "id": "aa01f587",
   "metadata": {},
   "source": [
    "### Read The Tempest (persistent)"
   ]
  },
  {
   "cell_type": "code",
   "execution_count": 3,
   "id": "eb9a7a88",
   "metadata": {},
   "outputs": [],
   "source": [
    "tempest = TextFile(\"/custom-data/The Tempest.txt\")\n",
    "tempest.make_persistent(alias=\"The Tempest\")\n",
    "tempest.read_file()"
   ]
  },
  {
   "cell_type": "markdown",
   "id": "a9098d58",
   "metadata": {},
   "source": [
    "### Read A Midsummer Night's Dream (persistent)"
   ]
  },
  {
   "cell_type": "code",
   "execution_count": 4,
   "id": "8cc87140",
   "metadata": {},
   "outputs": [],
   "source": [
    "mnd = TextFile(\"/custom-data/A Midsummer Night's Dream.txt\")\n",
    "mnd.make_persistent(alias=\"A Midsummer Night's Dream\")\n",
    "mnd.read_file()"
   ]
  },
  {
   "cell_type": "code",
   "execution_count": null,
   "id": "35e82969",
   "metadata": {},
   "outputs": [],
   "source": []
  }
 ],
 "metadata": {
  "kernelspec": {
   "display_name": "Python 3 (ipykernel)",
   "language": "python",
   "name": "python3"
  },
  "language_info": {
   "codemirror_mode": {
    "name": "ipython",
    "version": 3
   },
   "file_extension": ".py",
   "mimetype": "text/x-python",
   "name": "python",
   "nbconvert_exporter": "python",
   "pygments_lexer": "ipython3",
   "version": "3.10.6"
  }
 },
 "nbformat": 4,
 "nbformat_minor": 5
}
