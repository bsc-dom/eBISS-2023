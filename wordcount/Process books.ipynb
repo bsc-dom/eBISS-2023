{
 "cells": [
  {
   "cell_type": "markdown",
   "id": "5e79b852",
   "metadata": {},
   "source": [
    "# WordCount example (cont.)\n",
    "\n",
    "This notebook shows how an application can retrieve handlers to persistent objects and work with them (by continuing a data analytics workflow, or to refine results, etc.)\n",
    "\n",
    "### Prepare dataClay client connection"
   ]
  },
  {
   "cell_type": "code",
   "execution_count": 17,
   "id": "1e11d401",
   "metadata": {},
   "outputs": [],
   "source": [
    "from model.text import TextFile\n",
    "from dataclay import Client\n",
    "\n",
    "client = Client(host=\"127.0.0.1\", username=\"testuser\", password=\"s3cret\", dataset=\"testdata\")\n",
    "client.start()"
   ]
  },
  {
   "cell_type": "markdown",
   "id": "78bd9b24",
   "metadata": {},
   "source": [
    "### WordCount on Romeo and Juliet\n",
    "\n",
    "This gets a reference to the persistent object Romeo and Juliet.\n",
    "\n",
    "The `wordcount` method performs the WordCount operation onto this dataset."
   ]
  },
  {
   "cell_type": "code",
   "execution_count": 18,
   "id": "e3d9fb12",
   "metadata": {},
   "outputs": [],
   "source": [
    "rnj = TextFile.get_by_alias(\"Romeo and Juliet\")\n",
    "rnj_wc = rnj.wordcount()"
   ]
  },
  {
   "cell_type": "code",
   "execution_count": 19,
   "id": "ff7a918b",
   "metadata": {},
   "outputs": [
    {
     "data": {
      "text/plain": [
       "[('and', 727),\n",
       " ('the', 669),\n",
       " ('i', 574),\n",
       " ('to', 519),\n",
       " ('a', 467),\n",
       " ('of', 383),\n",
       " ('my', 356),\n",
       " ('that', 346),\n",
       " ('is', 343),\n",
       " ('in', 322),\n",
       " ('romeo', 294),\n",
       " ('you', 287),\n",
       " ('thou', 277),\n",
       " ('me', 265),\n",
       " ('not', 259),\n",
       " ('with', 248),\n",
       " ('it', 227),\n",
       " ('for', 223),\n",
       " ('this', 220),\n",
       " ('be', 210),\n",
       " ('but', 180),\n",
       " ('juliet', 175)]"
      ]
     },
     "execution_count": 19,
     "metadata": {},
     "output_type": "execute_result"
    }
   ],
   "source": [
    "rnj_wc.most_common(22)"
   ]
  },
  {
   "cell_type": "code",
   "execution_count": 20,
   "id": "3be390ac",
   "metadata": {},
   "outputs": [
    {
     "data": {
      "text/plain": [
       "25522"
      ]
     },
     "execution_count": 20,
     "metadata": {},
     "output_type": "execute_result"
    }
   ],
   "source": [
    "rnj_wc.total()"
   ]
  },
  {
   "cell_type": "markdown",
   "id": "e29a61ba",
   "metadata": {},
   "source": [
    "### WordCount on others"
   ]
  },
  {
   "cell_type": "code",
   "execution_count": 21,
   "id": "b93eda95",
   "metadata": {},
   "outputs": [
    {
     "data": {
      "text/plain": [
       "20805"
      ]
     },
     "execution_count": 21,
     "metadata": {},
     "output_type": "execute_result"
    }
   ],
   "source": [
    "tempest = TextFile.get_by_alias(\"The Tempest\")\n",
    "tempest_wc = tempest.wordcount()\n",
    "tempest_wc.total()"
   ]
  },
  {
   "cell_type": "code",
   "execution_count": 22,
   "id": "925df36e",
   "metadata": {},
   "outputs": [
    {
     "data": {
      "text/plain": [
       "17077"
      ]
     },
     "execution_count": 22,
     "metadata": {},
     "output_type": "execute_result"
    }
   ],
   "source": [
    "mnd = TextFile.get_by_alias(\"A Midsummer Night's Dream\")\n",
    "mnd_wc = mnd.wordcount()\n",
    "mnd_wc.total()"
   ]
  },
  {
   "cell_type": "markdown",
   "id": "038ab741",
   "metadata": {},
   "source": [
    "### Other operations on WordCount instances"
   ]
  },
  {
   "cell_type": "code",
   "execution_count": 10,
   "id": "21cf6305",
   "metadata": {},
   "outputs": [],
   "source": [
    "full_wc = rnj_wc + mnd_wc + mnd_wc"
   ]
  },
  {
   "cell_type": "code",
   "execution_count": 11,
   "id": "5023bba0",
   "metadata": {},
   "outputs": [
    {
     "data": {
      "text/plain": [
       "59676"
      ]
     },
     "execution_count": 11,
     "metadata": {},
     "output_type": "execute_result"
    }
   ],
   "source": [
    "full_wc.total()"
   ]
  },
  {
   "cell_type": "code",
   "execution_count": 9,
   "id": "95e06a0d",
   "metadata": {},
   "outputs": [
    {
     "data": {
      "text/plain": [
       "[('and', 1873),\n",
       " ('the', 1793),\n",
       " ('i', 1464),\n",
       " ('to', 1181),\n",
       " ('a', 1001),\n",
       " ('of', 925),\n",
       " ('you', 835),\n",
       " ('in', 802),\n",
       " ('my', 756),\n",
       " ('is', 723),\n",
       " ('that', 714),\n",
       " ('me', 623),\n",
       " ('with', 602),\n",
       " ('not', 601),\n",
       " ('this', 518),\n",
       " ('for', 511),\n",
       " ('thou', 509),\n",
       " ('it', 493),\n",
       " ('be', 424),\n",
       " ('but', 416)]"
      ]
     },
     "execution_count": 9,
     "metadata": {},
     "output_type": "execute_result"
    }
   ],
   "source": [
    "full_wc.most_common(20)"
   ]
  },
  {
   "cell_type": "code",
   "execution_count": null,
   "id": "f32170b5",
   "metadata": {},
   "outputs": [],
   "source": []
  }
 ],
 "metadata": {
  "kernelspec": {
   "display_name": "Python 3 (ipykernel)",
   "language": "python",
   "name": "python3"
  },
  "language_info": {
   "codemirror_mode": {
    "name": "ipython",
    "version": 3
   },
   "file_extension": ".py",
   "mimetype": "text/x-python",
   "name": "python",
   "nbconvert_exporter": "python",
   "pygments_lexer": "ipython3",
   "version": "3.10.6"
  }
 },
 "nbformat": 4,
 "nbformat_minor": 5
}
